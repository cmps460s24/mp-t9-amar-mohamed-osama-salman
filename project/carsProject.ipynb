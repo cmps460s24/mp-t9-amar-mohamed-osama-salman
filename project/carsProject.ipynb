{
 "cells": [
  {
   "cell_type": "markdown",
   "metadata": {},
   "source": [
    "# Names and ID\n",
    "\n",
    "## Osama Osman - 201909415\n"
   ]
  },
  {
   "cell_type": "markdown",
   "metadata": {},
   "source": [
    "# Project due by `Thursday 9/5/2024`"
   ]
  },
  {
   "cell_type": "markdown",
   "metadata": {},
   "source": [
    "# Objective:\n",
    "## \n",
    "# Overview:\n",
    "## \n",
    "## \n",
    "Dataset Source:\n",
    "The dataset can be obtained from Kaggle at the following link: [Data Science Salaries 2023 💸\n",
    "](----)\n",
    "\n",
    "\n",
    "\n",
    "\n",
    "\n",
    "\n",
    "\n"
   ]
  },
  {
   "cell_type": "markdown",
   "metadata": {},
   "source": [
    "# Predicting"
   ]
  },
  {
   "cell_type": "markdown",
   "metadata": {},
   "source": [
    "# **Setup**"
   ]
  },
  {
   "cell_type": "code",
   "execution_count": 116,
   "metadata": {},
   "outputs": [],
   "source": [
    "import pandas as pd\n",
    "from sklearn.preprocessing import OneHotEncoder\n",
    "from sklearn.preprocessing import LabelEncoder\n",
    "from sklearn.model_selection import train_test_split\n",
    "from sklearn.metrics import accuracy_score\n",
    "from sklearn.tree import plot_tree\n",
    "from sklearn.ensemble import RandomForestClassifier\n",
    "import numpy as np\n",
    "from sklearn import metrics #Import scikit-learn metrics module for accuracy calculation\n",
    "from sklearn.metrics import confusion_matrix, ConfusionMatrixDisplay\n",
    "from sklearn.model_selection import cross_val_score\n",
    "\n",
    "import matplotlib.pyplot as plt\n",
    "from sklearn import tree\n",
    "from sklearn.model_selection import GridSearchCV\n",
    "from sklearn.datasets import load_iris\n",
    "from sklearn.tree import DecisionTreeRegressor, plot_tree\n",
    "from sklearn.preprocessing import LabelEncoder, OneHotEncoder\n",
    "from sklearn.compose import ColumnTransformer\n",
    "from sklearn.pipeline import Pipeline\n",
    "from sklearn.preprocessing import StandardScaler\n",
    "from sklearn.preprocessing import MinMaxScaler\n",
    "from sklearn.preprocessing import RobustScaler\n",
    "from sklearn.preprocessing import Normalizer\n",
    "from sklearn.preprocessing import QuantileTransformer\n",
    "import matplotlib.pyplot as plt\n",
    "from sklearn.metrics import mean_squared_error\n",
    "from sklearn.metrics import r2_score\n",
    "from sklearn.ensemble import ExtraTreesClassifier\n"
   ]
  },
  {
   "cell_type": "code",
   "execution_count": 117,
   "metadata": {},
   "outputs": [
    {
     "data": {
      "text/html": [
       "<div>\n",
       "<style scoped>\n",
       "    .dataframe tbody tr th:only-of-type {\n",
       "        vertical-align: middle;\n",
       "    }\n",
       "\n",
       "    .dataframe tbody tr th {\n",
       "        vertical-align: top;\n",
       "    }\n",
       "\n",
       "    .dataframe thead th {\n",
       "        text-align: right;\n",
       "    }\n",
       "</style>\n",
       "<table border=\"1\" class=\"dataframe\">\n",
       "  <thead>\n",
       "    <tr style=\"text-align: right;\">\n",
       "      <th></th>\n",
       "      <th>S.No.</th>\n",
       "      <th>Name</th>\n",
       "      <th>Location</th>\n",
       "      <th>Year</th>\n",
       "      <th>Kilometers_Driven</th>\n",
       "      <th>Fuel_Type</th>\n",
       "      <th>Transmission</th>\n",
       "      <th>Owner_Type</th>\n",
       "      <th>Mileage</th>\n",
       "      <th>Engine</th>\n",
       "      <th>Power</th>\n",
       "      <th>Seats</th>\n",
       "      <th>New_Price</th>\n",
       "      <th>Price</th>\n",
       "    </tr>\n",
       "  </thead>\n",
       "  <tbody>\n",
       "    <tr>\n",
       "      <th>0</th>\n",
       "      <td>0</td>\n",
       "      <td>Maruti Wagon R LXI CNG</td>\n",
       "      <td>Mumbai</td>\n",
       "      <td>2010</td>\n",
       "      <td>72000</td>\n",
       "      <td>CNG</td>\n",
       "      <td>Manual</td>\n",
       "      <td>First</td>\n",
       "      <td>26.6 km/kg</td>\n",
       "      <td>998 CC</td>\n",
       "      <td>58.16 bhp</td>\n",
       "      <td>5.0</td>\n",
       "      <td>NaN</td>\n",
       "      <td>1.75</td>\n",
       "    </tr>\n",
       "    <tr>\n",
       "      <th>1</th>\n",
       "      <td>1</td>\n",
       "      <td>Hyundai Creta 1.6 CRDi SX Option</td>\n",
       "      <td>Pune</td>\n",
       "      <td>2015</td>\n",
       "      <td>41000</td>\n",
       "      <td>Diesel</td>\n",
       "      <td>Manual</td>\n",
       "      <td>First</td>\n",
       "      <td>19.67 kmpl</td>\n",
       "      <td>1582 CC</td>\n",
       "      <td>126.2 bhp</td>\n",
       "      <td>5.0</td>\n",
       "      <td>NaN</td>\n",
       "      <td>12.50</td>\n",
       "    </tr>\n",
       "    <tr>\n",
       "      <th>2</th>\n",
       "      <td>2</td>\n",
       "      <td>Honda Jazz V</td>\n",
       "      <td>Chennai</td>\n",
       "      <td>2011</td>\n",
       "      <td>46000</td>\n",
       "      <td>Petrol</td>\n",
       "      <td>Manual</td>\n",
       "      <td>First</td>\n",
       "      <td>18.2 kmpl</td>\n",
       "      <td>1199 CC</td>\n",
       "      <td>88.7 bhp</td>\n",
       "      <td>5.0</td>\n",
       "      <td>8.61 Lakh</td>\n",
       "      <td>4.50</td>\n",
       "    </tr>\n",
       "    <tr>\n",
       "      <th>3</th>\n",
       "      <td>3</td>\n",
       "      <td>Maruti Ertiga VDI</td>\n",
       "      <td>Chennai</td>\n",
       "      <td>2012</td>\n",
       "      <td>87000</td>\n",
       "      <td>Diesel</td>\n",
       "      <td>Manual</td>\n",
       "      <td>First</td>\n",
       "      <td>20.77 kmpl</td>\n",
       "      <td>1248 CC</td>\n",
       "      <td>88.76 bhp</td>\n",
       "      <td>7.0</td>\n",
       "      <td>NaN</td>\n",
       "      <td>6.00</td>\n",
       "    </tr>\n",
       "    <tr>\n",
       "      <th>4</th>\n",
       "      <td>4</td>\n",
       "      <td>Audi A4 New 2.0 TDI Multitronic</td>\n",
       "      <td>Coimbatore</td>\n",
       "      <td>2013</td>\n",
       "      <td>40670</td>\n",
       "      <td>Diesel</td>\n",
       "      <td>Automatic</td>\n",
       "      <td>Second</td>\n",
       "      <td>15.2 kmpl</td>\n",
       "      <td>1968 CC</td>\n",
       "      <td>140.8 bhp</td>\n",
       "      <td>5.0</td>\n",
       "      <td>NaN</td>\n",
       "      <td>17.74</td>\n",
       "    </tr>\n",
       "    <tr>\n",
       "      <th>...</th>\n",
       "      <td>...</td>\n",
       "      <td>...</td>\n",
       "      <td>...</td>\n",
       "      <td>...</td>\n",
       "      <td>...</td>\n",
       "      <td>...</td>\n",
       "      <td>...</td>\n",
       "      <td>...</td>\n",
       "      <td>...</td>\n",
       "      <td>...</td>\n",
       "      <td>...</td>\n",
       "      <td>...</td>\n",
       "      <td>...</td>\n",
       "      <td>...</td>\n",
       "    </tr>\n",
       "    <tr>\n",
       "      <th>7248</th>\n",
       "      <td>7248</td>\n",
       "      <td>Volkswagen Vento Diesel Trendline</td>\n",
       "      <td>Hyderabad</td>\n",
       "      <td>2011</td>\n",
       "      <td>89411</td>\n",
       "      <td>Diesel</td>\n",
       "      <td>Manual</td>\n",
       "      <td>First</td>\n",
       "      <td>20.54 kmpl</td>\n",
       "      <td>1598 CC</td>\n",
       "      <td>103.6 bhp</td>\n",
       "      <td>5.0</td>\n",
       "      <td>NaN</td>\n",
       "      <td>NaN</td>\n",
       "    </tr>\n",
       "    <tr>\n",
       "      <th>7249</th>\n",
       "      <td>7249</td>\n",
       "      <td>Volkswagen Polo GT TSI</td>\n",
       "      <td>Mumbai</td>\n",
       "      <td>2015</td>\n",
       "      <td>59000</td>\n",
       "      <td>Petrol</td>\n",
       "      <td>Automatic</td>\n",
       "      <td>First</td>\n",
       "      <td>17.21 kmpl</td>\n",
       "      <td>1197 CC</td>\n",
       "      <td>103.6 bhp</td>\n",
       "      <td>5.0</td>\n",
       "      <td>NaN</td>\n",
       "      <td>NaN</td>\n",
       "    </tr>\n",
       "    <tr>\n",
       "      <th>7250</th>\n",
       "      <td>7250</td>\n",
       "      <td>Nissan Micra Diesel XV</td>\n",
       "      <td>Kolkata</td>\n",
       "      <td>2012</td>\n",
       "      <td>28000</td>\n",
       "      <td>Diesel</td>\n",
       "      <td>Manual</td>\n",
       "      <td>First</td>\n",
       "      <td>23.08 kmpl</td>\n",
       "      <td>1461 CC</td>\n",
       "      <td>63.1 bhp</td>\n",
       "      <td>5.0</td>\n",
       "      <td>NaN</td>\n",
       "      <td>NaN</td>\n",
       "    </tr>\n",
       "    <tr>\n",
       "      <th>7251</th>\n",
       "      <td>7251</td>\n",
       "      <td>Volkswagen Polo GT TSI</td>\n",
       "      <td>Pune</td>\n",
       "      <td>2013</td>\n",
       "      <td>52262</td>\n",
       "      <td>Petrol</td>\n",
       "      <td>Automatic</td>\n",
       "      <td>Third</td>\n",
       "      <td>17.2 kmpl</td>\n",
       "      <td>1197 CC</td>\n",
       "      <td>103.6 bhp</td>\n",
       "      <td>5.0</td>\n",
       "      <td>NaN</td>\n",
       "      <td>NaN</td>\n",
       "    </tr>\n",
       "    <tr>\n",
       "      <th>7252</th>\n",
       "      <td>7252</td>\n",
       "      <td>Mercedes-Benz E-Class 2009-2013 E 220 CDI Avan...</td>\n",
       "      <td>Kochi</td>\n",
       "      <td>2014</td>\n",
       "      <td>72443</td>\n",
       "      <td>Diesel</td>\n",
       "      <td>Automatic</td>\n",
       "      <td>First</td>\n",
       "      <td>10.0 kmpl</td>\n",
       "      <td>2148 CC</td>\n",
       "      <td>170 bhp</td>\n",
       "      <td>5.0</td>\n",
       "      <td>NaN</td>\n",
       "      <td>NaN</td>\n",
       "    </tr>\n",
       "  </tbody>\n",
       "</table>\n",
       "<p>7253 rows × 14 columns</p>\n",
       "</div>"
      ],
      "text/plain": [
       "      S.No.                                               Name    Location  \\\n",
       "0         0                             Maruti Wagon R LXI CNG      Mumbai   \n",
       "1         1                   Hyundai Creta 1.6 CRDi SX Option        Pune   \n",
       "2         2                                       Honda Jazz V     Chennai   \n",
       "3         3                                  Maruti Ertiga VDI     Chennai   \n",
       "4         4                    Audi A4 New 2.0 TDI Multitronic  Coimbatore   \n",
       "...     ...                                                ...         ...   \n",
       "7248   7248                  Volkswagen Vento Diesel Trendline   Hyderabad   \n",
       "7249   7249                             Volkswagen Polo GT TSI      Mumbai   \n",
       "7250   7250                             Nissan Micra Diesel XV     Kolkata   \n",
       "7251   7251                             Volkswagen Polo GT TSI        Pune   \n",
       "7252   7252  Mercedes-Benz E-Class 2009-2013 E 220 CDI Avan...       Kochi   \n",
       "\n",
       "      Year  Kilometers_Driven Fuel_Type Transmission Owner_Type     Mileage  \\\n",
       "0     2010              72000       CNG       Manual      First  26.6 km/kg   \n",
       "1     2015              41000    Diesel       Manual      First  19.67 kmpl   \n",
       "2     2011              46000    Petrol       Manual      First   18.2 kmpl   \n",
       "3     2012              87000    Diesel       Manual      First  20.77 kmpl   \n",
       "4     2013              40670    Diesel    Automatic     Second   15.2 kmpl   \n",
       "...    ...                ...       ...          ...        ...         ...   \n",
       "7248  2011              89411    Diesel       Manual      First  20.54 kmpl   \n",
       "7249  2015              59000    Petrol    Automatic      First  17.21 kmpl   \n",
       "7250  2012              28000    Diesel       Manual      First  23.08 kmpl   \n",
       "7251  2013              52262    Petrol    Automatic      Third   17.2 kmpl   \n",
       "7252  2014              72443    Diesel    Automatic      First   10.0 kmpl   \n",
       "\n",
       "       Engine      Power  Seats  New_Price  Price  \n",
       "0      998 CC  58.16 bhp    5.0        NaN   1.75  \n",
       "1     1582 CC  126.2 bhp    5.0        NaN  12.50  \n",
       "2     1199 CC   88.7 bhp    5.0  8.61 Lakh   4.50  \n",
       "3     1248 CC  88.76 bhp    7.0        NaN   6.00  \n",
       "4     1968 CC  140.8 bhp    5.0        NaN  17.74  \n",
       "...       ...        ...    ...        ...    ...  \n",
       "7248  1598 CC  103.6 bhp    5.0        NaN    NaN  \n",
       "7249  1197 CC  103.6 bhp    5.0        NaN    NaN  \n",
       "7250  1461 CC   63.1 bhp    5.0        NaN    NaN  \n",
       "7251  1197 CC  103.6 bhp    5.0        NaN    NaN  \n",
       "7252  2148 CC    170 bhp    5.0        NaN    NaN  \n",
       "\n",
       "[7253 rows x 14 columns]"
      ]
     },
     "execution_count": 117,
     "metadata": {},
     "output_type": "execute_result"
    }
   ],
   "source": [
    "# **1 - Data Exploration**\n",
    "# Load the dataset\n",
    "data = pd.read_csv('used_cars_data.csv')\n",
    "data"
   ]
  },
  {
   "cell_type": "code",
   "execution_count": 118,
   "metadata": {},
   "outputs": [
    {
     "data": {
      "text/plain": [
       "(7253, 14)"
      ]
     },
     "execution_count": 118,
     "metadata": {},
     "output_type": "execute_result"
    }
   ],
   "source": [
    "# Check the shape of the dataset\n",
    "data.shape"
   ]
  },
  {
   "cell_type": "code",
   "execution_count": 119,
   "metadata": {},
   "outputs": [
    {
     "data": {
      "text/plain": [
       "S.No.                  int64\n",
       "Name                  object\n",
       "Location              object\n",
       "Year                   int64\n",
       "Kilometers_Driven      int64\n",
       "Fuel_Type             object\n",
       "Transmission          object\n",
       "Owner_Type            object\n",
       "Mileage               object\n",
       "Engine                object\n",
       "Power                 object\n",
       "Seats                float64\n",
       "New_Price             object\n",
       "Price                float64\n",
       "dtype: object"
      ]
     },
     "execution_count": 119,
     "metadata": {},
     "output_type": "execute_result"
    }
   ],
   "source": [
    "# Check for data types\n",
    "data.dtypes"
   ]
  },
  {
   "cell_type": "code",
   "execution_count": 120,
   "metadata": {},
   "outputs": [
    {
     "name": "stdout",
     "output_type": "stream",
     "text": [
      "<class 'pandas.core.frame.DataFrame'>\n",
      "RangeIndex: 7253 entries, 0 to 7252\n",
      "Data columns (total 14 columns):\n",
      " #   Column             Non-Null Count  Dtype  \n",
      "---  ------             --------------  -----  \n",
      " 0   S.No.              7253 non-null   int64  \n",
      " 1   Name               7253 non-null   object \n",
      " 2   Location           7253 non-null   object \n",
      " 3   Year               7253 non-null   int64  \n",
      " 4   Kilometers_Driven  7253 non-null   int64  \n",
      " 5   Fuel_Type          7253 non-null   object \n",
      " 6   Transmission       7253 non-null   object \n",
      " 7   Owner_Type         7253 non-null   object \n",
      " 8   Mileage            7251 non-null   object \n",
      " 9   Engine             7207 non-null   object \n",
      " 10  Power              7207 non-null   object \n",
      " 11  Seats              7200 non-null   float64\n",
      " 12  New_Price          1006 non-null   object \n",
      " 13  Price              6019 non-null   float64\n",
      "dtypes: float64(2), int64(3), object(9)\n",
      "memory usage: 793.4+ KB\n"
     ]
    }
   ],
   "source": [
    "# Display the information about the data, such as the number of rows and columns, data types, and memory usage.\n",
    "data.info()"
   ]
  },
  {
   "cell_type": "code",
   "execution_count": 121,
   "metadata": {},
   "outputs": [
    {
     "data": {
      "text/html": [
       "<div>\n",
       "<style scoped>\n",
       "    .dataframe tbody tr th:only-of-type {\n",
       "        vertical-align: middle;\n",
       "    }\n",
       "\n",
       "    .dataframe tbody tr th {\n",
       "        vertical-align: top;\n",
       "    }\n",
       "\n",
       "    .dataframe thead th {\n",
       "        text-align: right;\n",
       "    }\n",
       "</style>\n",
       "<table border=\"1\" class=\"dataframe\">\n",
       "  <thead>\n",
       "    <tr style=\"text-align: right;\">\n",
       "      <th></th>\n",
       "      <th>S.No.</th>\n",
       "      <th>Year</th>\n",
       "      <th>Kilometers_Driven</th>\n",
       "      <th>Seats</th>\n",
       "      <th>Price</th>\n",
       "    </tr>\n",
       "  </thead>\n",
       "  <tbody>\n",
       "    <tr>\n",
       "      <th>count</th>\n",
       "      <td>7253.000000</td>\n",
       "      <td>7253.000000</td>\n",
       "      <td>7.253000e+03</td>\n",
       "      <td>7200.000000</td>\n",
       "      <td>6019.000000</td>\n",
       "    </tr>\n",
       "    <tr>\n",
       "      <th>mean</th>\n",
       "      <td>3626.000000</td>\n",
       "      <td>2013.365366</td>\n",
       "      <td>5.869906e+04</td>\n",
       "      <td>5.279722</td>\n",
       "      <td>9.479468</td>\n",
       "    </tr>\n",
       "    <tr>\n",
       "      <th>std</th>\n",
       "      <td>2093.905084</td>\n",
       "      <td>3.254421</td>\n",
       "      <td>8.442772e+04</td>\n",
       "      <td>0.811660</td>\n",
       "      <td>11.187917</td>\n",
       "    </tr>\n",
       "    <tr>\n",
       "      <th>min</th>\n",
       "      <td>0.000000</td>\n",
       "      <td>1996.000000</td>\n",
       "      <td>1.710000e+02</td>\n",
       "      <td>0.000000</td>\n",
       "      <td>0.440000</td>\n",
       "    </tr>\n",
       "    <tr>\n",
       "      <th>25%</th>\n",
       "      <td>1813.000000</td>\n",
       "      <td>2011.000000</td>\n",
       "      <td>3.400000e+04</td>\n",
       "      <td>5.000000</td>\n",
       "      <td>3.500000</td>\n",
       "    </tr>\n",
       "    <tr>\n",
       "      <th>50%</th>\n",
       "      <td>3626.000000</td>\n",
       "      <td>2014.000000</td>\n",
       "      <td>5.341600e+04</td>\n",
       "      <td>5.000000</td>\n",
       "      <td>5.640000</td>\n",
       "    </tr>\n",
       "    <tr>\n",
       "      <th>75%</th>\n",
       "      <td>5439.000000</td>\n",
       "      <td>2016.000000</td>\n",
       "      <td>7.300000e+04</td>\n",
       "      <td>5.000000</td>\n",
       "      <td>9.950000</td>\n",
       "    </tr>\n",
       "    <tr>\n",
       "      <th>max</th>\n",
       "      <td>7252.000000</td>\n",
       "      <td>2019.000000</td>\n",
       "      <td>6.500000e+06</td>\n",
       "      <td>10.000000</td>\n",
       "      <td>160.000000</td>\n",
       "    </tr>\n",
       "  </tbody>\n",
       "</table>\n",
       "</div>"
      ],
      "text/plain": [
       "             S.No.         Year  Kilometers_Driven        Seats        Price\n",
       "count  7253.000000  7253.000000       7.253000e+03  7200.000000  6019.000000\n",
       "mean   3626.000000  2013.365366       5.869906e+04     5.279722     9.479468\n",
       "std    2093.905084     3.254421       8.442772e+04     0.811660    11.187917\n",
       "min       0.000000  1996.000000       1.710000e+02     0.000000     0.440000\n",
       "25%    1813.000000  2011.000000       3.400000e+04     5.000000     3.500000\n",
       "50%    3626.000000  2014.000000       5.341600e+04     5.000000     5.640000\n",
       "75%    5439.000000  2016.000000       7.300000e+04     5.000000     9.950000\n",
       "max    7252.000000  2019.000000       6.500000e+06    10.000000   160.000000"
      ]
     },
     "execution_count": 121,
     "metadata": {},
     "output_type": "execute_result"
    }
   ],
   "source": [
    "# Display summary statistics\n",
    "data.describe()"
   ]
  },
  {
   "cell_type": "code",
   "execution_count": 122,
   "metadata": {},
   "outputs": [
    {
     "data": {
      "text/html": [
       "<div>\n",
       "<style scoped>\n",
       "    .dataframe tbody tr th:only-of-type {\n",
       "        vertical-align: middle;\n",
       "    }\n",
       "\n",
       "    .dataframe tbody tr th {\n",
       "        vertical-align: top;\n",
       "    }\n",
       "\n",
       "    .dataframe thead th {\n",
       "        text-align: right;\n",
       "    }\n",
       "</style>\n",
       "<table border=\"1\" class=\"dataframe\">\n",
       "  <thead>\n",
       "    <tr style=\"text-align: right;\">\n",
       "      <th></th>\n",
       "      <th>Name</th>\n",
       "      <th>Location</th>\n",
       "      <th>Fuel_Type</th>\n",
       "      <th>Transmission</th>\n",
       "      <th>Owner_Type</th>\n",
       "      <th>Mileage</th>\n",
       "      <th>Engine</th>\n",
       "      <th>Power</th>\n",
       "      <th>New_Price</th>\n",
       "    </tr>\n",
       "  </thead>\n",
       "  <tbody>\n",
       "    <tr>\n",
       "      <th>count</th>\n",
       "      <td>7253</td>\n",
       "      <td>7253</td>\n",
       "      <td>7253</td>\n",
       "      <td>7253</td>\n",
       "      <td>7253</td>\n",
       "      <td>7251</td>\n",
       "      <td>7207</td>\n",
       "      <td>7207</td>\n",
       "      <td>1006</td>\n",
       "    </tr>\n",
       "    <tr>\n",
       "      <th>unique</th>\n",
       "      <td>2041</td>\n",
       "      <td>11</td>\n",
       "      <td>5</td>\n",
       "      <td>2</td>\n",
       "      <td>4</td>\n",
       "      <td>450</td>\n",
       "      <td>150</td>\n",
       "      <td>386</td>\n",
       "      <td>625</td>\n",
       "    </tr>\n",
       "    <tr>\n",
       "      <th>top</th>\n",
       "      <td>Mahindra XUV500 W8 2WD</td>\n",
       "      <td>Mumbai</td>\n",
       "      <td>Diesel</td>\n",
       "      <td>Manual</td>\n",
       "      <td>First</td>\n",
       "      <td>17.0 kmpl</td>\n",
       "      <td>1197 CC</td>\n",
       "      <td>74 bhp</td>\n",
       "      <td>63.71 Lakh</td>\n",
       "    </tr>\n",
       "    <tr>\n",
       "      <th>freq</th>\n",
       "      <td>55</td>\n",
       "      <td>949</td>\n",
       "      <td>3852</td>\n",
       "      <td>5204</td>\n",
       "      <td>5952</td>\n",
       "      <td>207</td>\n",
       "      <td>732</td>\n",
       "      <td>280</td>\n",
       "      <td>6</td>\n",
       "    </tr>\n",
       "  </tbody>\n",
       "</table>\n",
       "</div>"
      ],
      "text/plain": [
       "                          Name Location Fuel_Type Transmission Owner_Type  \\\n",
       "count                     7253     7253      7253         7253       7253   \n",
       "unique                    2041       11         5            2          4   \n",
       "top     Mahindra XUV500 W8 2WD   Mumbai    Diesel       Manual      First   \n",
       "freq                        55      949      3852         5204       5952   \n",
       "\n",
       "          Mileage   Engine   Power   New_Price  \n",
       "count        7251     7207    7207        1006  \n",
       "unique        450      150     386         625  \n",
       "top     17.0 kmpl  1197 CC  74 bhp  63.71 Lakh  \n",
       "freq          207      732     280           6  "
      ]
     },
     "execution_count": 122,
     "metadata": {},
     "output_type": "execute_result"
    }
   ],
   "source": [
    "data.describe(include=[\"O\"])"
   ]
  },
  {
   "cell_type": "markdown",
   "metadata": {},
   "source": [
    "### Convert Millage every Km/kg to kmpl"
   ]
  },
  {
   "cell_type": "code",
   "execution_count": 123,
   "metadata": {},
   "outputs": [
    {
     "name": "stdout",
     "output_type": "stream",
     "text": [
      "   S.No.                              Name    Location  Year  \\\n",
      "0      0            Maruti Wagon R LXI CNG      Mumbai  2010   \n",
      "1      1  Hyundai Creta 1.6 CRDi SX Option        Pune  2015   \n",
      "2      2                      Honda Jazz V     Chennai  2011   \n",
      "3      3                 Maruti Ertiga VDI     Chennai  2012   \n",
      "4      4   Audi A4 New 2.0 TDI Multitronic  Coimbatore  2013   \n",
      "\n",
      "   Kilometers_Driven Fuel_Type Transmission Owner_Type  \\\n",
      "0              72000       CNG       Manual      First   \n",
      "1              41000    Diesel       Manual      First   \n",
      "2              46000    Petrol       Manual      First   \n",
      "3              87000    Diesel       Manual      First   \n",
      "4              40670    Diesel    Automatic     Second   \n",
      "\n",
      "                   Mileage   Engine      Power  Seats  New_Price  Price  \n",
      "0  39.900000000000006 kmpl   998 CC  58.16 bhp    5.0        NaN   1.75  \n",
      "1               19.67 kmpl  1582 CC  126.2 bhp    5.0        NaN  12.50  \n",
      "2                18.2 kmpl  1199 CC   88.7 bhp    5.0  8.61 Lakh   4.50  \n",
      "3               20.77 kmpl  1248 CC  88.76 bhp    7.0        NaN   6.00  \n",
      "4                15.2 kmpl  1968 CC  140.8 bhp    5.0        NaN  17.74  \n"
     ]
    }
   ],
   "source": [
    "\n",
    "# Define a conversion factor (example: 1 km/kg is approximated as 1.5 kmpl)\n",
    "conversion_factor = 1.5\n",
    "\n",
    "# Updated function to convert km/kg to kmpl\n",
    "def convert_mileage(mileage):\n",
    "    if isinstance(mileage, str):\n",
    "        if 'km/kg' in mileage:\n",
    "            value = float(mileage.split()[0])\n",
    "            return f\"{value * conversion_factor} kmpl\"\n",
    "    return mileage\n",
    "\n",
    "# Apply the conversion function to the Mileage column\n",
    "data['Mileage'] = data['Mileage'].apply(convert_mileage)\n",
    "\n",
    "# Save the modified dataframe to a new CSV file\n",
    "data.to_csv('updated_cars_data.csv', index=False)\n",
    "\n",
    "# Optionally print the updated DataFrame to check results\n",
    "print(data.head())\n"
   ]
  },
  {
   "cell_type": "markdown",
   "metadata": {},
   "source": [
    "### Removing lakh from New_Price"
   ]
  },
  {
   "cell_type": "code",
   "execution_count": 124,
   "metadata": {},
   "outputs": [
    {
     "name": "stdout",
     "output_type": "stream",
     "text": [
      "                                                   Name  New_Price\n",
      "0                                Maruti Wagon R LXI CNG        NaN\n",
      "1                      Hyundai Creta 1.6 CRDi SX Option        NaN\n",
      "2                                          Honda Jazz V       8.61\n",
      "3                                     Maruti Ertiga VDI        NaN\n",
      "4                       Audi A4 New 2.0 TDI Multitronic        NaN\n",
      "...                                                 ...        ...\n",
      "7248                  Volkswagen Vento Diesel Trendline        NaN\n",
      "7249                             Volkswagen Polo GT TSI        NaN\n",
      "7250                             Nissan Micra Diesel XV        NaN\n",
      "7251                             Volkswagen Polo GT TSI        NaN\n",
      "7252  Mercedes-Benz E-Class 2009-2013 E 220 CDI Avan...        NaN\n",
      "\n",
      "[7253 rows x 2 columns]\n"
     ]
    }
   ],
   "source": [
    "# Function to remove 'Lakh' from prices\n",
    "def remove_lakh(text):\n",
    "    if isinstance(text, str) and 'Lakh' in text:\n",
    "        # Split the string and return only the numeric part\n",
    "        numeric_part = text.split()[0]\n",
    "        return numeric_part\n",
    "    return text\n",
    "\n",
    "# Apply the function to the New_Price column\n",
    "data['New_Price'] = data['New_Price'].apply(remove_lakh)\n",
    "\n",
    "# Convert the numeric part to float, and handle possible errors or non-numeric data\n",
    "data['New_Price'] = pd.to_numeric(data['New_Price'], errors='coerce')\n",
    "\n",
    "# Save the modified dataframe to a new CSV file\n",
    "data.to_csv('updated_cars_data.csv', index=False)\n",
    "\n",
    "# Optionally print the updated DataFrame to check results\n",
    "print(data[['Name', 'New_Price']])\n"
   ]
  },
  {
   "cell_type": "markdown",
   "metadata": {},
   "source": [
    "### Delete units of measurement "
   ]
  },
  {
   "cell_type": "markdown",
   "metadata": {},
   "source": [
    "### make a column updated_price that contain the last price"
   ]
  },
  {
   "cell_type": "code",
   "execution_count": 125,
   "metadata": {},
   "outputs": [
    {
     "name": "stdout",
     "output_type": "stream",
     "text": [
      "                                                   Name  Price  New_Price  \\\n",
      "0                                Maruti Wagon R LXI CNG   1.75        NaN   \n",
      "1                      Hyundai Creta 1.6 CRDi SX Option  12.50        NaN   \n",
      "2                                          Honda Jazz V   4.50       8.61   \n",
      "3                                     Maruti Ertiga VDI   6.00        NaN   \n",
      "4                       Audi A4 New 2.0 TDI Multitronic  17.74        NaN   \n",
      "...                                                 ...    ...        ...   \n",
      "7248                  Volkswagen Vento Diesel Trendline    NaN        NaN   \n",
      "7249                             Volkswagen Polo GT TSI    NaN        NaN   \n",
      "7250                             Nissan Micra Diesel XV    NaN        NaN   \n",
      "7251                             Volkswagen Polo GT TSI    NaN        NaN   \n",
      "7252  Mercedes-Benz E-Class 2009-2013 E 220 CDI Avan...    NaN        NaN   \n",
      "\n",
      "      updated_price  \n",
      "0              1.75  \n",
      "1             12.50  \n",
      "2              8.61  \n",
      "3              6.00  \n",
      "4             17.74  \n",
      "...             ...  \n",
      "7248            NaN  \n",
      "7249            NaN  \n",
      "7250            NaN  \n",
      "7251            NaN  \n",
      "7252            NaN  \n",
      "\n",
      "[7253 rows x 4 columns]\n"
     ]
    }
   ],
   "source": [
    "# Approach using numpy.where\n",
    "data['updated_price'] = np.where(pd.notna(data['New_Price']), data['New_Price'], data['Price'])\n",
    "\n",
    "# Alternatively, you can use apply method which is more flexible for complex conditions:\n",
    "# Define a function that will be applied to each row\n",
    "def choose_price(row):\n",
    "    if pd.notna(row['New_Price']):\n",
    "        return row['New_Price']\n",
    "    else:\n",
    "        return row['Price']\n",
    "\n",
    "# Apply the function to each row\n",
    "data['updated_price'] = data.apply(choose_price, axis=1)\n",
    "\n",
    "# Save the modified DataFrame to a new CSV file\n",
    "data.to_csv('updated_cars_data.csv', index=False)\n",
    "\n",
    "# Optionally print the updated DataFrame to check results\n",
    "print(data[['Name', 'Price', 'New_Price', 'updated_price']])\n"
   ]
  },
  {
   "cell_type": "markdown",
   "metadata": {},
   "source": [
    "convert the last prices from rubees to dollars"
   ]
  },
  {
   "cell_type": "code",
   "execution_count": 126,
   "metadata": {},
   "outputs": [
    {
     "name": "stdout",
     "output_type": "stream",
     "text": [
      "                                                   Name  updated_price\n",
      "0                                Maruti Wagon R LXI CNG        2099.08\n",
      "1                      Hyundai Creta 1.6 CRDi SX Option       14993.40\n",
      "2                                          Honda Jazz V       10327.46\n",
      "3                                     Maruti Ertiga VDI        7196.83\n",
      "4                       Audi A4 New 2.0 TDI Multitronic       21278.64\n",
      "...                                                 ...            ...\n",
      "7248                  Volkswagen Vento Diesel Trendline            NaN\n",
      "7249                             Volkswagen Polo GT TSI            NaN\n",
      "7250                             Nissan Micra Diesel XV            NaN\n",
      "7251                             Volkswagen Polo GT TSI            NaN\n",
      "7252  Mercedes-Benz E-Class 2009-2013 E 220 CDI Avan...            NaN\n",
      "\n",
      "[7253 rows x 2 columns]\n"
     ]
    }
   ],
   "source": [
    "# Define the current exchange rate from rupees to dollars (update this value as needed)\n",
    "rupee_to_dollar = 1 / 83.37  # Example exchange rate, 1 dollar = 83.37 rupees\n",
    "\n",
    "# Function to convert from lakh rupees to dollars\n",
    "def lakh_rupees_to_dollars(lakh_rupees):\n",
    "    if pd.notna(lakh_rupees):\n",
    "        # Convert from lakh to rupees\n",
    "        rupees = float(lakh_rupees) * 100000\n",
    "        # Convert rupees to dollars\n",
    "        dollars = rupees * rupee_to_dollar\n",
    "        return round(dollars, 2)  # Round to two decimal places for currency\n",
    "    return lakh_rupees\n",
    "\n",
    "# Apply the conversion function to the updated_price column\n",
    "data['updated_price'] = data['updated_price'].apply(lakh_rupees_to_dollars)\n",
    "\n",
    "# Save the modified DataFrame to a new CSV file\n",
    "data.to_csv('updated_cars_data_in_dollars.csv', index=False)\n",
    "\n",
    "# Optionally print the updated DataFrame to check results\n",
    "print(data[['Name', 'updated_price']])\n"
   ]
  },
  {
   "cell_type": "markdown",
   "metadata": {},
   "source": [
    "### Remove some measurement units from kmpl from Mileage column , CC from Engine column , bhp from Power column then convert all of them from string to integer"
   ]
  },
  {
   "cell_type": "code",
   "execution_count": 131,
   "metadata": {},
   "outputs": [
    {
     "name": "stdout",
     "output_type": "stream",
     "text": [
      "                                                   Name  Mileage  Engine  \\\n",
      "0                                Maruti Wagon R LXI CNG    39.90   998.0   \n",
      "1                      Hyundai Creta 1.6 CRDi SX Option    19.67  1582.0   \n",
      "2                                          Honda Jazz V    18.20  1199.0   \n",
      "3                                     Maruti Ertiga VDI    20.77  1248.0   \n",
      "4                       Audi A4 New 2.0 TDI Multitronic    15.20  1968.0   \n",
      "...                                                 ...      ...     ...   \n",
      "7248                  Volkswagen Vento Diesel Trendline    20.54  1598.0   \n",
      "7249                             Volkswagen Polo GT TSI    17.21  1197.0   \n",
      "7250                             Nissan Micra Diesel XV    23.08  1461.0   \n",
      "7251                             Volkswagen Polo GT TSI    17.20  1197.0   \n",
      "7252  Mercedes-Benz E-Class 2009-2013 E 220 CDI Avan...    10.00  2148.0   \n",
      "\n",
      "       Power  \n",
      "0      58.16  \n",
      "1     126.20  \n",
      "2      88.70  \n",
      "3      88.76  \n",
      "4     140.80  \n",
      "...      ...  \n",
      "7248  103.60  \n",
      "7249  103.60  \n",
      "7250   63.10  \n",
      "7251  103.60  \n",
      "7252  170.00  \n",
      "\n",
      "[7253 rows x 4 columns]\n"
     ]
    }
   ],
   "source": [
    "# Function to remove specified unit from a string and convert to float\n",
    "def remove_units_and_convert(value, unit):\n",
    "    if pd.notna(value) and isinstance(value, str):\n",
    "        clean_value = value.replace(unit, '').strip()\n",
    "        if clean_value.lower() == 'null':  # Check for 'null' after removing unit\n",
    "            return 0  # Convert 'null' to 0\n",
    "        return float(clean_value)  # Attempt to convert the cleaned string to float\n",
    "    return value\n",
    "\n",
    "# Apply the function to Mileage, Engine, Power columns\n",
    "data['Mileage'] = data['Mileage'].apply(remove_units_and_convert, args=('kmpl',))\n",
    "data['Engine'] = data['Engine'].apply(remove_units_and_convert, args=('CC',))\n",
    "data['Power'] = data['Power'].apply(remove_units_and_convert, args=('bhp',))\n",
    "\n",
    "# Convert columns to appropriate types\n",
    "data['Engine'] = data['Engine'].astype(float)\n",
    "data['Power'] = data['Power'].astype(float)\n",
    "\n",
    "# Save the modified DataFrame to a new CSV file\n",
    "data.to_csv('updated_cars_data.csv', index=False)\n",
    "\n",
    "# Optionally print the updated DataFrame to check results\n",
    "print(data[['Name', 'Mileage', 'Engine', 'Power']])\n"
   ]
  },
  {
   "cell_type": "markdown",
   "metadata": {},
   "source": [
    "### convert Engine from cubic centimetres to litres "
   ]
  },
  {
   "cell_type": "code",
   "execution_count": 132,
   "metadata": {},
   "outputs": [
    {
     "name": "stdout",
     "output_type": "stream",
     "text": [
      "                                                   Name  Engine (liters)\n",
      "0                                Maruti Wagon R LXI CNG            0.998\n",
      "1                      Hyundai Creta 1.6 CRDi SX Option            1.582\n",
      "2                                          Honda Jazz V            1.199\n",
      "3                                     Maruti Ertiga VDI            1.248\n",
      "4                       Audi A4 New 2.0 TDI Multitronic            1.968\n",
      "...                                                 ...              ...\n",
      "7248                  Volkswagen Vento Diesel Trendline            1.598\n",
      "7249                             Volkswagen Polo GT TSI            1.197\n",
      "7250                             Nissan Micra Diesel XV            1.461\n",
      "7251                             Volkswagen Polo GT TSI            1.197\n",
      "7252  Mercedes-Benz E-Class 2009-2013 E 220 CDI Avan...            2.148\n",
      "\n",
      "[7253 rows x 2 columns]\n"
     ]
    }
   ],
   "source": [
    "# Function to remove 'CC' from engine values and convert to float\n",
    "def clean_engine(engine):\n",
    "    if pd.notna(engine) and isinstance(engine, str):\n",
    "        # Remove 'CC' and any extra spaces, then convert to float\n",
    "        return float(engine.replace('CC', '').strip())\n",
    "    return engine\n",
    "\n",
    "# Apply the function to clean the 'Engine' column\n",
    "data['Engine'] = data['Engine'].apply(clean_engine)\n",
    "\n",
    "# Convert engine capacity from cc to liters\n",
    "data['Engine'] = data['Engine'] / 1000\n",
    "\n",
    "# Optionally rename the column to 'Engine (liters)' for clarity\n",
    "data.rename(columns={'Engine': 'Engine (liters)'}, inplace=True)\n",
    "\n",
    "# Save the modified DataFrame to a new CSV file\n",
    "data.to_csv('updated_cars_data.csv', index=False)\n",
    "\n",
    "# Optionally print the updated DataFrame to check results\n",
    "print(data[['Name', 'Engine (liters)']])\n"
   ]
  },
  {
   "cell_type": "markdown",
   "metadata": {},
   "source": [
    "# Frequency counts for categorical variables\n"
   ]
  },
  {
   "cell_type": "code",
   "execution_count": null,
   "metadata": {},
   "outputs": [
    {
     "data": {
      "text/plain": [
       "Name\n",
       "Mahindra XUV500 W8 2WD                  55\n",
       "Maruti Swift VDI                        49\n",
       "Maruti Swift Dzire VDI                  42\n",
       "Honda City 1.5 S MT                     39\n",
       "Maruti Swift VDI BSIV                   37\n",
       "                                        ..\n",
       "Chevrolet Beat LT Option                 1\n",
       "Skoda Rapid 1.6 MPI AT Elegance Plus     1\n",
       "Ford EcoSport 1.5 TDCi Ambiente          1\n",
       "Hyundai i10 Magna 1.1 iTech SE           1\n",
       "Hyundai Elite i20 Magna Plus             1\n",
       "Name: count, Length: 2041, dtype: int64"
      ]
     },
     "execution_count": 110,
     "metadata": {},
     "output_type": "execute_result"
    }
   ],
   "source": [
    "# Frequency counts for categorical variables\n",
    "data['Name'].value_counts()"
   ]
  },
  {
   "cell_type": "code",
   "execution_count": null,
   "metadata": {},
   "outputs": [
    {
     "data": {
      "text/plain": [
       "Location\n",
       "Mumbai        949\n",
       "Hyderabad     876\n",
       "Coimbatore    772\n",
       "Kochi         772\n",
       "Pune          765\n",
       "Delhi         660\n",
       "Kolkata       654\n",
       "Chennai       591\n",
       "Jaipur        499\n",
       "Bangalore     440\n",
       "Ahmedabad     275\n",
       "Name: count, dtype: int64"
      ]
     },
     "execution_count": 111,
     "metadata": {},
     "output_type": "execute_result"
    }
   ],
   "source": [
    "data['Location'].value_counts()"
   ]
  },
  {
   "cell_type": "code",
   "execution_count": null,
   "metadata": {},
   "outputs": [
    {
     "data": {
      "text/plain": [
       "Fuel_Type\n",
       "Diesel      3852\n",
       "Petrol      3325\n",
       "CNG           62\n",
       "LPG           12\n",
       "Electric       2\n",
       "Name: count, dtype: int64"
      ]
     },
     "execution_count": 112,
     "metadata": {},
     "output_type": "execute_result"
    }
   ],
   "source": [
    "data['Fuel_Type'].value_counts()"
   ]
  },
  {
   "cell_type": "code",
   "execution_count": null,
   "metadata": {},
   "outputs": [
    {
     "data": {
      "text/plain": [
       "Transmission\n",
       "Manual       5204\n",
       "Automatic    2049\n",
       "Name: count, dtype: int64"
      ]
     },
     "execution_count": 113,
     "metadata": {},
     "output_type": "execute_result"
    }
   ],
   "source": [
    "data['Transmission'].value_counts()"
   ]
  },
  {
   "cell_type": "code",
   "execution_count": null,
   "metadata": {},
   "outputs": [
    {
     "data": {
      "text/plain": [
       "Owner_Type\n",
       "First             5952\n",
       "Second            1152\n",
       "Third              137\n",
       "Fourth & Above      12\n",
       "Name: count, dtype: int64"
      ]
     },
     "execution_count": 114,
     "metadata": {},
     "output_type": "execute_result"
    }
   ],
   "source": [
    "data['Owner_Type'].value_counts()"
   ]
  }
 ],
 "metadata": {
  "kernelspec": {
   "display_name": "cmps460",
   "language": "python",
   "name": "python3"
  },
  "language_info": {
   "codemirror_mode": {
    "name": "ipython",
    "version": 3
   },
   "file_extension": ".py",
   "mimetype": "text/x-python",
   "name": "python",
   "nbconvert_exporter": "python",
   "pygments_lexer": "ipython3",
   "version": "3.12.2"
  }
 },
 "nbformat": 4,
 "nbformat_minor": 2
}

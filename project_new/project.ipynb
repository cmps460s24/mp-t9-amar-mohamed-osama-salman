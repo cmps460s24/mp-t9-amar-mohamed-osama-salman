{
 "cells": [
  {
   "cell_type": "markdown",
   "metadata": {},
   "source": [
    "#ML PROJECT\n",
    "\n",
    "##Names and Quids:\n",
    "Mohammed Salah - 201912733\n",
    "Osama Osman - 201909415\n",
    "\n",
    "##The data and the source:\n",
    "[Hotel booking demand](https://www.kaggle.com/datasets/jessemostipak/hotel-booking-demand)\n"
   ]
  },
  {
   "cell_type": "code",
   "execution_count": null,
   "metadata": {
    "vscode": {
     "languageId": "plaintext"
    }
   },
   "outputs": [],
   "source": []
  }
 ],
 "metadata": {
  "language_info": {
   "name": "python"
  }
 },
 "nbformat": 4,
 "nbformat_minor": 2
}
